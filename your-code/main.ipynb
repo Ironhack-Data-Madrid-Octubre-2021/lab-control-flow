{
 "cells": [
  {
   "cell_type": "markdown",
   "metadata": {},
   "source": [
    "## Words"
   ]
  },
  {
   "cell_type": "code",
   "execution_count": 3,
   "metadata": {},
   "outputs": [],
   "source": [
    "words = ['play', 'filling', 'bar', 'theatre', 'easygoing', 'date', 'lead', 'that', 'story',  'island']"
   ]
  },
  {
   "cell_type": "markdown",
   "metadata": {},
   "source": [
    "**Print every word in upper case**"
   ]
  },
  {
   "cell_type": "code",
   "execution_count": 4,
   "metadata": {},
   "outputs": [],
   "source": [
    "# your code here\n",
    "word_list = ['play', 'filling', 'bar', 'theatre', 'easygoing', 'date', 'lead', 'that', 'story',  'island']\n",
    "for i in range(len(word_list)):\n",
    "    word_list[i] = word_list[i].upper()\n",
    "\n",
    "    "
   ]
  },
  {
   "cell_type": "code",
   "execution_count": 5,
   "metadata": {},
   "outputs": [
    {
     "name": "stdout",
     "output_type": "stream",
     "text": [
      "['PLAY', 'FILLING', 'BAR', 'THEATRE', 'EASYGOING', 'DATE', 'LEAD', 'THAT', 'STORY', 'ISLAND']\n"
     ]
    }
   ],
   "source": [
    "print(word_list)"
   ]
  },
  {
   "cell_type": "markdown",
   "metadata": {},
   "source": [
    "**Create a new list containing only words with 5 or more letters**"
   ]
  },
  {
   "cell_type": "code",
   "execution_count": 7,
   "metadata": {},
   "outputs": [
    {
     "name": "stdout",
     "output_type": "stream",
     "text": [
      "PLAY   4\n",
      "FILLING   7\n",
      "BAR   3\n",
      "THEATRE   7\n",
      "EASYGOING   9\n",
      "DATE   4\n",
      "LEAD   4\n",
      "THAT   4\n",
      "STORY   5\n",
      "ISLAND   6\n",
      "['FILLING', 'THEATRE', 'EASYGOING', 'STORY', 'ISLAND']\n"
     ]
    }
   ],
   "source": [
    "# your code here\n",
    "nueva_listilla = []\n",
    "\n",
    "for word in word_list:\n",
    "    print(word , \" \", len(word))\n",
    "    if len(word) >= 5:\n",
    "        nueva_listilla.append(word)\n",
    "\n",
    "print(nueva_listilla)\n",
    "        \n"
   ]
  },
  {
   "cell_type": "markdown",
   "metadata": {},
   "source": [
    "**Print the first word starting with \"t\"**"
   ]
  },
  {
   "cell_type": "code",
   "execution_count": 1,
   "metadata": {},
   "outputs": [],
   "source": [
    "# your code here\n",
    "words = sentence.strip()\n",
    "for word in nueva_listilla:\n",
    "    print (word)"
   ]
  },
  {
   "cell_type": "markdown",
   "metadata": {},
   "source": [
    "## Numbers"
   ]
  },
  {
   "cell_type": "markdown",
   "metadata": {},
   "source": [
    "**Create a list containing the square of every number from 1 to 10**"
   ]
  },
  {
   "cell_type": "code",
   "execution_count": 2,
   "metadata": {},
   "outputs": [
    {
     "name": "stdout",
     "output_type": "stream",
     "text": [
      "[1, 4, 9, 16, 25, 36, 49, 64, 81, 100]\n"
     ]
    }
   ],
   "source": [
    "# your code here\n",
    "listilla_tu = [1,2,3,4,5,6,7,8,9,10]\n",
    "listilla_alcuadrado = [num ** 2 for num in listilla_tu]\n",
    "print(listilla_alcuadrado)\n"
   ]
  },
  {
   "cell_type": "markdown",
   "metadata": {},
   "source": [
    "**Print a list containing the square of every odd number from 1 to 10**"
   ]
  },
  {
   "cell_type": "code",
   "execution_count": 11,
   "metadata": {},
   "outputs": [
    {
     "name": "stdout",
     "output_type": "stream",
     "text": [
      "[1, 2, 3, 4, 5, 6, 7, 8, 9, 10]\n"
     ]
    }
   ],
   "source": [
    "\n",
    "print(listilla)"
   ]
  },
  {
   "cell_type": "code",
   "execution_count": 15,
   "metadata": {},
   "outputs": [
    {
     "name": "stdout",
     "output_type": "stream",
     "text": [
      "[1, 2, 3, 4, 5, 6, 7, 8, 9, 10]\n",
      "[1, 3, 5, 7, 9]\n",
      "[1, 9, 25, 49, 81]\n"
     ]
    }
   ],
   "source": [
    "# your code here\n",
    "lista_del_1_al_10 = list(range(1,11))\n",
    "lista_de_impares = []\n",
    "lista_de_cuadrados_impares = []\n",
    "\n",
    "\n",
    "for num in lista_del_1_al_10:\n",
    "    if num % 2 == 1:\n",
    "        lista_de_impares.append(num)\n",
    "        lista_de_cuadrados_impares.append(num**2)\n",
    "\n",
    "print(lista_del_1_al_10)\n",
    "print(lista_de_impares)\n",
    "print(lista_de_cuadrados_impares)\n",
    "\n",
    "    "
   ]
  },
  {
   "cell_type": "markdown",
   "metadata": {},
   "source": [
    "**Create a list with the squares of all multiples of 8 below 1000**"
   ]
  },
  {
   "cell_type": "code",
   "execution_count": 19,
   "metadata": {},
   "outputs": [
    {
     "name": "stdout",
     "output_type": "stream",
     "text": [
      "[8, 16777216, 16, 4294967296, 24, 110075314176, 32, 1099511627776, 40, 6553600000000, 48, 28179280429056, 56, 96717311574016, 64, 281474976710656, 72, 722204136308736, 80, 1677721600000000, 88, 3596345248055296, 96, 7213895789838336, 104, 13685690504052736, 112, 24759631762948096, 120, 42998169600000000, 128, 72057594037927936, 136, 117033789351264256, 144, 184884258895036416, 152, 284936905588473856, 160, 429496729600000000, 168, 634562281237118976, 176, 920664383502155776, 184, 1313840315232157696, 192, 1846757322198614016, 200, 2560000000000000000, 208, 3503536769037500416, 216, 4738381338321616896, 224, 6338465731314712576, 232, 8392742123471896576, 240, 11007531417600000000, 248, 14309137159611744256, 256, 18446744073709551616, 264, 23595621172490797056, 272, 29960650073923649536, 280, 37780199833600000000, 288, 47330370277129322496, 296, 58929626493994663936, 304, 72943847830649307136, 312, 89791815397090000896, 320, 109951162777600000000, 328, 133964815312812507136, 336, 162447943996702457856, 344, 196095460708571938816, 352, 235690082176551878656, 360, 282110990745600000000, 368, 336343120699432370176, 376, 399487099562283237376, 384, 472769874482845188096, 392, 557556054479199010816, 400, 655360000000000000000, 408, 767858691933644783616, 416, 896905412873600106496, 424, 1044544274124532350976, 432, 1213025622610333925376, 440, 1404822362521600000000, 448, 1622647227216566419456, 456, 1869471037565976969216, 464, 2148541983608805523456, 472, 2463405967062215950336, 480, 2817928042905600000000, 488, 3216314998934990749696, 496, 3663139112860606529536, 504, 4163363127196737601536, 512, 4722366482869645213696, 520, 5345972853145600000000, 528, 6040479020157644046336, 536, 6812685136986118291456, 544, 7669926418924454281216, 552, 8620106308238186643456, 560, 9671731157401600000000, 568, 10833946476472881381376, 576, 12116574790945106558976, 584, 13530155157086846058496, 592, 15085984382462633967616, 600, 16796160000000000000000, 608, 18673625044646222626816, 616, 20732214682334418436096, 624, 22986704741655040229376, 632, 25452862199305313714176, 640, 28147497671065600000000, 648, 31088519960728128454656, 656, 34294992720080001826816, 664, 37787193273718832889856, 672, 41586673663155829211136, 680, 45716323965337600000000, 688, 50200437941394416336896, 696, 55064781072099113435136, 704, 60336661037197280935936, 712, 66045000696445844586496, 720, 72220413630873600000000, 728, 78895282303453716545536, 736, 86103838899054686765056, 744, 93882248904212654063616, 752, 102268697487944508768256, 760, 111303478745497600000000, 768, 121029087867608368152576, 776, 131490316298518660120576, 784, 142734349946674946768896, 792, 154810870512712119484416, 800, 167772160000000000000000, 808, 181673208473707155030016, 816, 196571825135013064605696, 824, 212528752777776150347776, 832, 229607785695641627262976, 840, 247875891108249600000000, 848, 267403334175880281849856, 856, 288263806672549672124416, 864, 310534559388245484896256, 872, 334296538331669579431936, 880, 359634524805529600000000, 888, 386637279427098990084096, 896, 415397690167441003380736, 904, 446012924483368791310336, 912, 478584585616890104119296, 920, 513218873137561600000000, 928, 550026747803854214004736, 936, 589124100820307495878656, 944, 630631927567927283286016, 952, 674676505885957534253056, 960, 721389578983833600000000, 968, 770908543062800676683776, 976, 823376639727357631922176, 984, 878943153267362859319296, 992, 937763612892315271561216, 1000, 1000000000000000000000000]\n"
     ]
    }
   ],
   "source": [
    "# your code here\n",
    "list_hastamil = list(range(1,1001))\n",
    "list_multiples_8 = []\n",
    "\n",
    "for num in list_hastamil:\n",
    "    if num % 8 == 0:\n",
    "        list_multiples_8.append(num)\n",
    "        list_multiples_8.append(num**8)\n",
    "        \n",
    "print(list_multiples_8)\n"
   ]
  },
  {
   "cell_type": "markdown",
   "metadata": {},
   "source": [
    "## People"
   ]
  },
  {
   "cell_type": "code",
   "execution_count": 20,
   "metadata": {},
   "outputs": [],
   "source": [
    "people = [\n",
    "    {\n",
    "        \"name\": \"Juan\",\n",
    "        \"age\": 34,\n",
    "        \"n_kids\": 2\n",
    "    },\n",
    "    {\n",
    "        \"name\": \"Pepe\",\n",
    "        \"age\": 27,\n",
    "        \"n_kids\": 0\n",
    "    },\n",
    "    {\n",
    "        \"name\": \"Sonia\",\n",
    "        \"age\": 41,\n",
    "        \"n_kids\": 1\n",
    "    },\n",
    "    {\n",
    "        \"name\": \"Lucía\",\n",
    "        \"age\": 22,\n",
    "        \"n_kids\": 2\n",
    "    },\n",
    "    {\n",
    "        \"name\": \"Leo\",\n",
    "        \"age\": 55,\n",
    "        \"n_kids\": 5\n",
    "    }\n",
    "]"
   ]
  },
  {
   "cell_type": "markdown",
   "metadata": {},
   "source": [
    "**How many people are there?**"
   ]
  },
  {
   "cell_type": "code",
   "execution_count": 25,
   "metadata": {},
   "outputs": [
    {
     "data": {
      "text/plain": [
       "5"
      ]
     },
     "execution_count": 25,
     "metadata": {},
     "output_type": "execute_result"
    }
   ],
   "source": [
    "# your code here\n",
    "len(people)"
   ]
  },
  {
   "cell_type": "markdown",
   "metadata": {},
   "source": [
    "**How many people have kids**?"
   ]
  },
  {
   "cell_type": "code",
   "execution_count": 30,
   "metadata": {},
   "outputs": [
    {
     "name": "stdout",
     "output_type": "stream",
     "text": [
      "People with kids 4\n"
     ]
    }
   ],
   "source": [
    "# your code here\n",
    "kids = 0 \n",
    "for i in people:\n",
    "    if i[\"n_kids\"] != 0:\n",
    "        kids += 1\n",
    "print(\"People with kids\", kids)"
   ]
  },
  {
   "cell_type": "markdown",
   "metadata": {},
   "source": [
    "**How many kids do they have in total?**"
   ]
  },
  {
   "cell_type": "code",
   "execution_count": 32,
   "metadata": {},
   "outputs": [
    {
     "name": "stdout",
     "output_type": "stream",
     "text": [
      "10\n"
     ]
    }
   ],
   "source": [
    "# your code here\n",
    "kids_total = []\n",
    "for kids in people:\n",
    "    kids_total.append(kids[\"n_kids\"])\n",
    "    \n",
    "kids_total = sum(kids_total)\n",
    "print(kids_total)    "
   ]
  },
  {
   "cell_type": "markdown",
   "metadata": {},
   "source": [
    "**In a year's time, names ending with \"a\" will have an extra kid. Create a list of dictionaries with people's info in a year's time**"
   ]
  },
  {
   "cell_type": "code",
   "execution_count": 3,
   "metadata": {},
   "outputs": [],
   "source": [
    "# your code here ** Hay que devolver una lista de diccionarios dentro\n",
    "next_year = []\n",
    "for kid in people:\n",
    "    if i[\"n_kids\"] == (\"a\")(+1)\n",
    "    "
   ]
  }
 ],
 "metadata": {
  "kernelspec": {
   "display_name": "ironhack",
   "language": "python",
   "name": "ironhack"
  },
  "language_info": {
   "codemirror_mode": {
    "name": "ipython",
    "version": 3
   },
   "file_extension": ".py",
   "mimetype": "text/x-python",
   "name": "python",
   "nbconvert_exporter": "python",
   "pygments_lexer": "ipython3",
   "version": "3.8.5"
  },
  "toc": {
   "base_numbering": 1,
   "nav_menu": {},
   "number_sections": false,
   "sideBar": true,
   "skip_h1_title": false,
   "title_cell": "Table of Contents",
   "title_sidebar": "Contents",
   "toc_cell": false,
   "toc_position": {},
   "toc_section_display": true,
   "toc_window_display": true
  },
  "varInspector": {
   "cols": {
    "lenName": 16,
    "lenType": 16,
    "lenVar": 40
   },
   "kernels_config": {
    "python": {
     "delete_cmd_postfix": "",
     "delete_cmd_prefix": "del ",
     "library": "var_list.py",
     "varRefreshCmd": "print(var_dic_list())"
    },
    "r": {
     "delete_cmd_postfix": ") ",
     "delete_cmd_prefix": "rm(",
     "library": "var_list.r",
     "varRefreshCmd": "cat(var_dic_list()) "
    }
   },
   "types_to_exclude": [
    "module",
    "function",
    "builtin_function_or_method",
    "instance",
    "_Feature"
   ],
   "window_display": false
  }
 },
 "nbformat": 4,
 "nbformat_minor": 4
}
